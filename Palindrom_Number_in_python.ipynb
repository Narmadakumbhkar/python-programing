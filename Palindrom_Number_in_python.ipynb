{
  "nbformat": 4,
  "nbformat_minor": 0,
  "metadata": {
    "colab": {
      "provenance": [],
      "authorship_tag": "ABX9TyPdv0wKgKpU8g60mkSbMzGS",
      "include_colab_link": true
    },
    "kernelspec": {
      "name": "python3",
      "display_name": "Python 3"
    },
    "language_info": {
      "name": "python"
    }
  },
  "cells": [
    {
      "cell_type": "markdown",
      "metadata": {
        "id": "view-in-github",
        "colab_type": "text"
      },
      "source": [
        "<a href=\"https://colab.research.google.com/github/Narmadakumbhkar/python-programing/blob/main/Palindrom_Number_in_python.ipynb\" target=\"_parent\"><img src=\"https://colab.research.google.com/assets/colab-badge.svg\" alt=\"Open In Colab\"/></a>"
      ]
    },
    {
      "cell_type": "markdown",
      "source": [
        "## Q 1.==> palindrome number :- asked from two types (1) string,(2) number"
      ],
      "metadata": {
        "id": "hoogSCj4TlSa"
      }
    },
    {
      "cell_type": "markdown",
      "source": [
        "### (1) BY string split methord:-"
      ],
      "metadata": {
        "id": "Gn64VlPcUsvn"
      }
    },
    {
      "cell_type": "code",
      "execution_count": null,
      "metadata": {
        "colab": {
          "base_uri": "https://localhost:8080/"
        },
        "id": "K4l3MqEEThJY",
        "outputId": "d4390b58-ca09-4b01-8e2d-53c25ba3bd81"
      },
      "outputs": [
        {
          "output_type": "stream",
          "name": "stdout",
          "text": [
            "palindrome number\n",
            "palindrome number\n",
            "it's not palandrome number\n"
          ]
        }
      ],
      "source": [
        "def pal(s):\n",
        "  temp=s[::-1]\n",
        "  if s== temp:\n",
        "    print(\"palindrome number\")\n",
        "  else:\n",
        "    print(\"it's not palandrome number\")\n",
        "s=\"madam\"\n",
        "pal(s)\n",
        "s=\"nitin\"\n",
        "pal(s)\n",
        "s=\"narmada\"\n",
        "pal(s)"
      ]
    },
    {
      "cell_type": "markdown",
      "source": [
        "### (2) BY using indexing /using for loop:-"
      ],
      "metadata": {
        "id": "24d9lhflWTEF"
      }
    },
    {
      "cell_type": "code",
      "source": [
        "def pal2(s):                       # True=palindrome, False= Not palindrome\n",
        "  n = len(s)\n",
        "  for i in range(n):\n",
        "    if s[i] != s[n-i-1]:\n",
        "      return False\n",
        "  return True\n",
        "  \n",
        "s=\"nitin\"\n",
        "print(pal2(s))"
      ],
      "metadata": {
        "colab": {
          "base_uri": "https://localhost:8080/"
        },
        "id": "3P4gw16aVd4Q",
        "outputId": "da8004e5-90d1-44c4-e847-1ef61c24df36"
      },
      "execution_count": null,
      "outputs": [
        {
          "output_type": "stream",
          "name": "stdout",
          "text": [
            "True\n"
          ]
        }
      ]
    },
    {
      "cell_type": "markdown",
      "source": [
        "###(3) By using inbuilt functions - reversed and join:-"
      ],
      "metadata": {
        "id": "pN1ymw2JY22D"
      }
    },
    {
      "cell_type": "code",
      "source": [
        "def pal3(s):\n",
        "  temp=\"\".join(reversed(s))\n",
        "  if s == temp:\n",
        "    return True\n",
        "  else:\n",
        "    return False\n",
        "s=\"nitin\"\n",
        "pal3(s)\n",
        "print(pal3(s))"
      ],
      "metadata": {
        "colab": {
          "base_uri": "https://localhost:8080/"
        },
        "id": "0vjHzPBnXQnQ",
        "outputId": "d9b465f5-3a7b-4b0d-a139-c55105c61474"
      },
      "execution_count": null,
      "outputs": [
        {
          "output_type": "stream",
          "name": "stdout",
          "text": [
            "True\n"
          ]
        }
      ]
    },
    {
      "cell_type": "markdown",
      "source": [
        "### (4) BY using while loop:-"
      ],
      "metadata": {
        "id": "dqFjM0U9avS6"
      }
    },
    {
      "cell_type": "code",
      "source": [
        "def pal4(s):\n",
        "  n=len(s)\n",
        "  first=0\n",
        "  last=n-1\n",
        "  while(first<last):\n",
        "    if s[first]==s[last]:\n",
        "      first+= 1\n",
        "      last-= 1\n",
        "    else:\n",
        "      return False\n",
        "  return True\n",
        "\n",
        "s=\"nitin\"\n",
        "pal4(s)\n",
        "print(pal4(s))"
      ],
      "metadata": {
        "colab": {
          "base_uri": "https://localhost:8080/"
        },
        "id": "Aurj-XRKaAwl",
        "outputId": "d42834e3-2994-4d6b-cf6f-73f3ed164644"
      },
      "execution_count": null,
      "outputs": [
        {
          "output_type": "stream",
          "name": "stdout",
          "text": [
            "True\n"
          ]
        }
      ]
    },
    {
      "cell_type": "code",
      "source": [],
      "metadata": {
        "id": "GzO1D7MNb5sU"
      },
      "execution_count": null,
      "outputs": []
    }
  ]
}