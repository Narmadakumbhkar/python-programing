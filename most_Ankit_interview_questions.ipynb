{
  "cells": [
    {
      "cell_type": "markdown",
      "metadata": {
        "id": "view-in-github",
        "colab_type": "text"
      },
      "source": [
        "<a href=\"https://colab.research.google.com/github/Narmadakumbhkar/python-programing/blob/main/most_Ankit_interview_questions.ipynb\" target=\"_parent\"><img src=\"https://colab.research.google.com/assets/colab-badge.svg\" alt=\"Open In Colab\"/></a>"
      ]
    },
    {
      "cell_type": "markdown",
      "source": [
        "# Python_programming:-"
      ],
      "metadata": {
        "id": "kLyM3mCGrtmE"
      },
      "id": "kLyM3mCGrtmE"
    },
    {
      "cell_type": "code",
      "source": [
        "A=[1,2,3,4,5,6]\n",
        "print(sum(A))"
      ],
      "metadata": {
        "colab": {
          "base_uri": "https://localhost:8080/"
        },
        "id": "Ni1Vl21PL_On",
        "outputId": "5a739d6c-0f17-4425-8348-2403a1c07d24"
      },
      "id": "Ni1Vl21PL_On",
      "execution_count": 1,
      "outputs": [
        {
          "output_type": "stream",
          "name": "stdout",
          "text": [
            "21\n"
          ]
        }
      ]
    },
    {
      "cell_type": "code",
      "execution_count": null,
      "id": "0d33201e",
      "metadata": {
        "colab": {
          "base_uri": "https://localhost:8080/"
        },
        "id": "0d33201e",
        "outputId": "a66940a8-27f4-463b-8156-a6a9d01e8500"
      },
      "outputs": [
        {
          "output_type": "stream",
          "name": "stdout",
          "text": [
            "[1, 2, 3, 4, 5, 6, 7, 15, 14, 13, 12, 11, 10]\n"
          ]
        }
      ],
      "source": [
        "def append():\n",
        "    A = [1,2,3,4,5,6,7]\n",
        "    B = [10,11,12,13,14,15]\n",
        "    C = B[::-1]\n",
        "    for i in C:\n",
        "        A.append(i)\n",
        "    print(A)\n",
        "append()"
      ]
    },
    {
      "cell_type": "code",
      "source": [
        "A = [1,2,3,4,5,6,7]\n",
        "B = [10,11,12,13,14,15]\n",
        "C = B[::-1]\n",
        "\n",
        "A+C"
      ],
      "metadata": {
        "colab": {
          "base_uri": "https://localhost:8080/"
        },
        "id": "cg1Rk9uw1GRs",
        "outputId": "fa70f5fa-1be6-4bb3-9c0c-fbf6fa8e40d0"
      },
      "id": "cg1Rk9uw1GRs",
      "execution_count": null,
      "outputs": [
        {
          "output_type": "execute_result",
          "data": {
            "text/plain": [
              "[1, 2, 3, 4, 5, 6, 7, 15, 14, 13, 12, 11, 10]"
            ]
          },
          "metadata": {},
          "execution_count": 2
        }
      ]
    },
    {
      "cell_type": "code",
      "execution_count": null,
      "id": "6da8056e",
      "metadata": {
        "id": "6da8056e",
        "outputId": "1e8a4bf3-4efc-4129-acf6-c67910f955d8",
        "colab": {
          "base_uri": "https://localhost:8080/"
        }
      },
      "outputs": [
        {
          "output_type": "stream",
          "name": "stdout",
          "text": [
            "4\n"
          ]
        }
      ],
      "source": [
        "list = [1,2,4,5,6,2,4] \n",
        "A=[]\n",
        "for i in list:\n",
        "    n = list.count(i)\n",
        "    if n >1:\n",
        "        if A.count(list) == 0:\n",
        "            A.append(i)\n",
        "#print(A)\n",
        "print(A)"
      ]
    },
    {
      "cell_type": "code",
      "execution_count": null,
      "id": "fa06fe8e",
      "metadata": {
        "id": "fa06fe8e",
        "outputId": "df066556-feca-4da2-e559-e2a3db5d3cd6",
        "colab": {
          "base_uri": "https://localhost:8080/"
        }
      },
      "outputs": [
        {
          "output_type": "stream",
          "name": "stdout",
          "text": [
            "8\n",
            "not prime number\n"
          ]
        }
      ],
      "source": [
        "num = int(input())\n",
        "p = 0\n",
        "for i in range(2, num):\n",
        "    if num%i==0:\n",
        "        p = 1\n",
        "        break\n",
        "if p==0:\n",
        "    print(\"prime number\")\n",
        "else:\n",
        "    print(\"not prime number\")"
      ]
    },
    {
      "cell_type": "code",
      "source": [
        "num = int(input(\"enter no\"))\n",
        "for i in range(2,num):\n",
        "  if num%i==0:\n",
        "    print(num, \"not a prime\")\n",
        "    break\n",
        "else:\n",
        "  print(num, \"prime no\")"
      ],
      "metadata": {
        "colab": {
          "base_uri": "https://localhost:8080/"
        },
        "id": "D47ARKG6jcd2",
        "outputId": "0be64c65-750d-4bf6-8f59-44cdef04dd63"
      },
      "id": "D47ARKG6jcd2",
      "execution_count": null,
      "outputs": [
        {
          "output_type": "stream",
          "name": "stdout",
          "text": [
            "enter no7\n",
            "7 prime no\n"
          ]
        }
      ]
    },
    {
      "cell_type": "code",
      "execution_count": null,
      "id": "c7fd9f39",
      "metadata": {
        "id": "c7fd9f39",
        "outputId": "aa501f1f-4005-4421-c1a8-7e724d711d9c",
        "colab": {
          "base_uri": "https://localhost:8080/"
        }
      },
      "outputs": [
        {
          "output_type": "stream",
          "name": "stdout",
          "text": [
            "18\n"
          ]
        }
      ],
      "source": [
        "from datetime import datetime\n",
        "start =  \"2022-03\"\n",
        "end = \"2023-09\"\n",
        "A = datetime.strptime(start,\"%Y-%m\")\n",
        "B = datetime.strptime(end,\"%Y-%m\")\n",
        "C = (B.year-A.year)*12 + (B.month-A.month)\n",
        "print(C)"
      ]
    },
    {
      "cell_type": "code",
      "execution_count": null,
      "id": "27be555e",
      "metadata": {
        "colab": {
          "base_uri": "https://localhost:8080/"
        },
        "id": "27be555e",
        "outputId": "f163439f-d27a-4f5b-b2d1-654ef89b653a"
      },
      "outputs": [
        {
          "output_type": "stream",
          "name": "stdout",
          "text": [
            "drow\n"
          ]
        }
      ],
      "source": [
        "a = 'word'\n",
        "print(a[::-1])"
      ]
    },
    {
      "cell_type": "code",
      "source": [
        "def my_function(x):\n",
        "  return x[::-1]\n",
        "\n",
        "mytxt = my_function(\"I wonder how this text looks like backwards\")\n",
        "\n",
        "print(mytxt)\n"
      ],
      "metadata": {
        "colab": {
          "base_uri": "https://localhost:8080/"
        },
        "id": "SjOjcj7gy3nK",
        "outputId": "eb23fb6e-7997-4d7a-f0f5-357ab97a9451"
      },
      "id": "SjOjcj7gy3nK",
      "execution_count": null,
      "outputs": [
        {
          "output_type": "stream",
          "name": "stdout",
          "text": [
            "sdrawkcab ekil skool txet siht woh rednow I\n"
          ]
        }
      ]
    },
    {
      "cell_type": "code",
      "source": [
        "a = \"I wonder how this text looks like backwards\"\n",
        "b=a.split(' ')\n",
        "\n",
        "x=b[::-1]\n",
        "\n",
        "ss=' '\n",
        "sss=ss.join(x)\n",
        "sss"
      ],
      "metadata": {
        "colab": {
          "base_uri": "https://localhost:8080/",
          "height": 87
        },
        "id": "0KPrlkveztfZ",
        "outputId": "2c2be1e9-41b3-49bf-bac1-53bdbd3e1e41"
      },
      "id": "0KPrlkveztfZ",
      "execution_count": null,
      "outputs": [
        {
          "output_type": "stream",
          "name": "stdout",
          "text": [
            "['I', 'wonder', 'how', 'this', 'text', 'looks', 'like', 'backwards']\n",
            "['backwards', 'like', 'looks', 'text', 'this', 'how', 'wonder', 'I']\n",
            " \n"
          ]
        },
        {
          "output_type": "execute_result",
          "data": {
            "text/plain": [
              "'backwards like looks text this how wonder I'"
            ],
            "application/vnd.google.colaboratory.intrinsic+json": {
              "type": "string"
            }
          },
          "metadata": {},
          "execution_count": 6
        }
      ]
    },
    {
      "cell_type": "code",
      "source": [
        "a = \"I wonder how this text looks like backwards\"\n",
        "b=a.split(' ')\n",
        "s=[]\n",
        "for i in b:\n",
        "  x=i\n",
        "  y=x[::-1]\n",
        "  s.append(y)\n",
        "r=' '\n",
        "t=r.join(s)\n",
        "t\n",
        "\n"
      ],
      "metadata": {
        "colab": {
          "base_uri": "https://localhost:8080/",
          "height": 35
        },
        "id": "h1Ippwql0Whj",
        "outputId": "4ed8bddc-6971-464a-e020-84c77a0256d9"
      },
      "id": "h1Ippwql0Whj",
      "execution_count": null,
      "outputs": [
        {
          "output_type": "execute_result",
          "data": {
            "text/plain": [
              "'I rednow woh siht txet skool ekil sdrawkcab'"
            ],
            "application/vnd.google.colaboratory.intrinsic+json": {
              "type": "string"
            }
          },
          "metadata": {},
          "execution_count": 9
        }
      ]
    },
    {
      "cell_type": "code",
      "source": [
        "s = input()\n",
        "n = ''\n",
        "for i in s:\n",
        "    n=i+n\n",
        "if s==n:\n",
        "    print(\"is palii\")\n",
        "else:\n",
        "    print(\"is not pillindrom\")"
      ],
      "metadata": {
        "colab": {
          "base_uri": "https://localhost:8080/"
        },
        "id": "fnNH8Hki-w6X",
        "outputId": "e83d64cc-15e9-4481-ded4-5e79dde14ffb"
      },
      "id": "fnNH8Hki-w6X",
      "execution_count": null,
      "outputs": [
        {
          "output_type": "stream",
          "name": "stdout",
          "text": [
            "9\n",
            "is palii\n"
          ]
        }
      ]
    },
    {
      "cell_type": "code",
      "source": [
        "s = 'abcdebe'\n",
        "st = ' '\n",
        "stt=''\n",
        "for i in s:\n",
        "    if i not in st:\n",
        "        st = st+i\n",
        "    else:\n",
        "        stt=stt+i\n",
        "        \n",
        "print(stt)"
      ],
      "metadata": {
        "colab": {
          "base_uri": "https://localhost:8080/"
        },
        "id": "fHXBoE88-yAA",
        "outputId": "02226630-517c-4d7a-b7a6-56efefcdb7dc"
      },
      "id": "fHXBoE88-yAA",
      "execution_count": null,
      "outputs": [
        {
          "output_type": "stream",
          "name": "stdout",
          "text": [
            "be\n"
          ]
        }
      ]
    },
    {
      "cell_type": "code",
      "source": [
        "sd=int(input('inter the number'))\n",
        "k=2*sd-2\n",
        "for i in range(0,sd):\n",
        "  for j in range(0,k):\n",
        "    print(end='')\n",
        "  k=k-2\n",
        "  for j in range(0,i+1):\n",
        "    print('*',end=\"\")\n",
        "  print(\"\")"
      ],
      "metadata": {
        "colab": {
          "base_uri": "https://localhost:8080/"
        },
        "id": "uRmrYqHLoihU",
        "outputId": "22ec9a87-9d3b-4283-a611-bda3b97ecda4"
      },
      "id": "uRmrYqHLoihU",
      "execution_count": null,
      "outputs": [
        {
          "output_type": "stream",
          "name": "stdout",
          "text": [
            "inter the number6\n",
            "*\n",
            "**\n",
            "***\n",
            "****\n",
            "*****\n",
            "******\n"
          ]
        }
      ]
    },
    {
      "cell_type": "code",
      "source": [
        "def pyfun(r):\n",
        "  for a in range(r):\n",
        "    print(' '*(r-a-1)+'*'*(2*a+1))\n",
        "pyfun(6)"
      ],
      "metadata": {
        "colab": {
          "base_uri": "https://localhost:8080/"
        },
        "id": "V_6RZ1sXryrT",
        "outputId": "038a2bc5-ab37-4648-8f28-97deed986ff0"
      },
      "id": "V_6RZ1sXryrT",
      "execution_count": null,
      "outputs": [
        {
          "output_type": "stream",
          "name": "stdout",
          "text": [
            "     *\n",
            "    ***\n",
            "   *****\n",
            "  *******\n",
            " *********\n",
            "***********\n"
          ]
        }
      ]
    },
    {
      "cell_type": "code",
      "source": [
        "f=5\n",
        "for i in range(f,0,-1):\n",
        "  for j in range(i,0,-1):\n",
        "    print(j,end='')\n",
        "  print('')"
      ],
      "metadata": {
        "colab": {
          "base_uri": "https://localhost:8080/"
        },
        "id": "Tug0CSqMxo2y",
        "outputId": "250e6fbf-d497-4e18-d479-2ca88c8494aa"
      },
      "id": "Tug0CSqMxo2y",
      "execution_count": null,
      "outputs": [
        {
          "output_type": "stream",
          "name": "stdout",
          "text": [
            "54321\n",
            "4321\n",
            "321\n",
            "21\n",
            "1\n"
          ]
        }
      ]
    },
    {
      "cell_type": "code",
      "source": [
        "x=5\n",
        "for i in range(x):\n",
        "  print(''*(x-i),\"*\"*(i*2+1))"
      ],
      "metadata": {
        "colab": {
          "base_uri": "https://localhost:8080/"
        },
        "id": "KoIc_hDOsviq",
        "outputId": "4513c9d5-08b9-4775-f32d-ef27456f58ca"
      },
      "id": "KoIc_hDOsviq",
      "execution_count": null,
      "outputs": [
        {
          "output_type": "stream",
          "name": "stdout",
          "text": [
            "      *\n",
            "     ***\n",
            "    *****\n",
            "   *******\n",
            "  *********\n"
          ]
        }
      ]
    },
    {
      "cell_type": "code",
      "source": [
        "li = [1,2,3,4,5,6,7,8]\n",
        "n =len(li)\n",
        "while n>0:\n",
        "    a = li[n-1]\n",
        "    print(a)\n",
        "    n=n-1"
      ],
      "metadata": {
        "colab": {
          "base_uri": "https://localhost:8080/"
        },
        "id": "WJ8cg0xY-78y",
        "outputId": "606ca42c-dd7e-4020-c2c1-ac05c243daf1"
      },
      "id": "WJ8cg0xY-78y",
      "execution_count": null,
      "outputs": [
        {
          "output_type": "stream",
          "name": "stdout",
          "text": [
            "8\n",
            "7\n",
            "6\n",
            "5\n",
            "4\n",
            "3\n",
            "2\n",
            "1\n"
          ]
        }
      ]
    },
    {
      "cell_type": "code",
      "source": [
        "s=\"vivekpatel124@#$%*&#@\"  # remove special char and num. also\n",
        "v=''.join(char for char in s if char.isalpha())\n",
        "print(v)"
      ],
      "metadata": {
        "colab": {
          "base_uri": "https://localhost:8080/"
        },
        "id": "FNv4ZZqZtoZ-",
        "outputId": "3d111d65-69ad-45fa-fa3c-1cff3080577a"
      },
      "id": "FNv4ZZqZtoZ-",
      "execution_count": null,
      "outputs": [
        {
          "output_type": "stream",
          "name": "stdout",
          "text": [
            "vivekpatel\n"
          ]
        }
      ]
    },
    {
      "cell_type": "code",
      "source": [
        "st = 'THIS IS MY FIRST NAME'\n",
        "s1 = \" \".join([x[::-1]for x in st.split()])\n",
        "print(s1)"
      ],
      "metadata": {
        "colab": {
          "base_uri": "https://localhost:8080/"
        },
        "id": "sK00Znl7_QHt",
        "outputId": "856a8871-b43e-4128-c2cf-d3e2c3ae68bc"
      },
      "id": "sK00Znl7_QHt",
      "execution_count": null,
      "outputs": [
        {
          "output_type": "stream",
          "name": "stdout",
          "text": [
            "SIHT SI YM TSRIF EMAN\n"
          ]
        }
      ]
    },
    {
      "cell_type": "code",
      "source": [
        "st = 'THIS IS MY FIRST NAME'\n",
        "a = st.split()\n",
        "a"
      ],
      "metadata": {
        "colab": {
          "base_uri": "https://localhost:8080/"
        },
        "id": "PlDdOqwkvgOZ",
        "outputId": "652d2e22-fbec-4360-db56-f1f35009be16"
      },
      "id": "PlDdOqwkvgOZ",
      "execution_count": null,
      "outputs": [
        {
          "output_type": "execute_result",
          "data": {
            "text/plain": [
              "['THIS', 'IS', 'MY', 'FIRST', 'NAME']"
            ]
          },
          "metadata": {},
          "execution_count": 56
        }
      ]
    },
    {
      "cell_type": "code",
      "source": [
        "def vi(n):\n",
        "    li = []\n",
        "    for i in range(0,len(n),2):\n",
        "        time = int(n[i+1])\n",
        "        while time:\n",
        "            li.append(n[i])\n",
        "            time-=1\n",
        "    print(''.join(li))\n",
        "\n",
        "n = 'a2b4c5'\n",
        "vi(n)\n"
      ],
      "metadata": {
        "colab": {
          "base_uri": "https://localhost:8080/"
        },
        "id": "5ok7zqjk_7d-",
        "outputId": "119bed85-7672-4b6c-8993-d782cb4e57e4"
      },
      "id": "5ok7zqjk_7d-",
      "execution_count": null,
      "outputs": [
        {
          "output_type": "stream",
          "name": "stdout",
          "text": [
            "aabbbbccccc\n"
          ]
        }
      ]
    },
    {
      "cell_type": "code",
      "source": [
        "a = input()\n",
        "b=\"\"\n",
        "for i in a:\n",
        "    b=i+b\n",
        "print(b)"
      ],
      "metadata": {
        "colab": {
          "base_uri": "https://localhost:8080/"
        },
        "id": "gHSOq6qvAAoH",
        "outputId": "1c209dcf-abe2-484f-ff8a-e3d6b394a323"
      },
      "id": "gHSOq6qvAAoH",
      "execution_count": null,
      "outputs": [
        {
          "output_type": "stream",
          "name": "stdout",
          "text": [
            "abc\n",
            "cba\n"
          ]
        }
      ]
    },
    {
      "cell_type": "code",
      "source": [
        "d = {'name':'prakash','age':21,'class':'B com','sub':'commerce'}\n",
        "a = d.get('name')\n",
        "print(a)"
      ],
      "metadata": {
        "colab": {
          "base_uri": "https://localhost:8080/"
        },
        "id": "f0YHryl1ATCX",
        "outputId": "52b87077-66b8-4db4-8f5b-cef94df378bf"
      },
      "id": "f0YHryl1ATCX",
      "execution_count": null,
      "outputs": [
        {
          "output_type": "stream",
          "name": "stdout",
          "text": [
            "prakash\n"
          ]
        }
      ]
    },
    {
      "cell_type": "code",
      "source": [
        "list=[1,2,3,4,5,6,7]\n",
        "l2=[8,9,10,11,12]\n",
        "l3= list[1:5]\n",
        "l4 = l2[1:3]\n",
        "li5 =l3+l4\n",
        "print(li5)"
      ],
      "metadata": {
        "colab": {
          "base_uri": "https://localhost:8080/"
        },
        "id": "MW6_kSJbAj-M",
        "outputId": "ac5c2d0e-28b1-4c90-a216-ff65a89ba040"
      },
      "id": "MW6_kSJbAj-M",
      "execution_count": null,
      "outputs": [
        {
          "output_type": "stream",
          "name": "stdout",
          "text": [
            "[2, 3, 4, 5, 9, 10]\n"
          ]
        }
      ]
    },
    {
      "cell_type": "code",
      "source": [
        "s=\"this is ankit puri a python developer\"\n",
        "s = s.split()\n",
        "if 'abhishek' in s:\n",
        "    print('True')\n",
        "else:\n",
        "    print('False')"
      ],
      "metadata": {
        "colab": {
          "base_uri": "https://localhost:8080/"
        },
        "id": "rnqs4ju0BLyk",
        "outputId": "83724a47-7f8f-423a-eb6f-08896f45d929"
      },
      "id": "rnqs4ju0BLyk",
      "execution_count": null,
      "outputs": [
        {
          "output_type": "stream",
          "name": "stdout",
          "text": [
            "False\n"
          ]
        }
      ]
    },
    {
      "cell_type": "code",
      "source": [
        "txt='2021-03'\n",
        "x=txt.split(\"-\")\n",
        "print(x)\n",
        "for i in x:\n",
        "    print(i)"
      ],
      "metadata": {
        "colab": {
          "base_uri": "https://localhost:8080/"
        },
        "id": "wcCDI3IXBXYZ",
        "outputId": "1b9c4e76-db77-414e-a023-546a3eb7c6dc"
      },
      "id": "wcCDI3IXBXYZ",
      "execution_count": null,
      "outputs": [
        {
          "output_type": "stream",
          "name": "stdout",
          "text": [
            "['2021', '03']\n",
            "2021\n",
            "03\n"
          ]
        }
      ]
    },
    {
      "cell_type": "code",
      "source": [
        "\n",
        "class students:\n",
        "    li = \"ABC\"\n",
        "    def __init__(self,name,parentname):\n",
        "        self.name = name\n",
        "        self.parentname = parentname\n",
        "        \n",
        "        \n",
        "A = students(\"Shivam\",\"ramesh\")\n",
        "B = students(\"Kapil\",\"Roopsingh\") \n",
        "    \n",
        "print(A.li)\n",
        "print(B.li)\n",
        "\n",
        "print(\"Student name1:\",A.name)\n",
        "print(\"Student name2:\",B.name)\n",
        "\n",
        "print(\"parent name\",A.parentname)\n",
        "print(\"parent name\",B.parentname)"
      ],
      "metadata": {
        "colab": {
          "base_uri": "https://localhost:8080/"
        },
        "id": "7TB56T_mBj6c",
        "outputId": "ccda5038-5ce3-4c87-f8b0-40a701523e46"
      },
      "id": "7TB56T_mBj6c",
      "execution_count": null,
      "outputs": [
        {
          "output_type": "stream",
          "name": "stdout",
          "text": [
            "ABC\n",
            "ABC\n",
            "Student name1: Shivam\n",
            "Student name2: Kapil\n",
            "parent name ramesh\n",
            "parent name Roopsingh\n"
          ]
        }
      ]
    },
    {
      "cell_type": "code",
      "source": [
        "class mycls:\n",
        "    v1 = 123\n",
        "    \n",
        "    def __init__(self):\n",
        "        self.object_e= 456\n",
        "        \n",
        "c1 = mycls()\n",
        "c2 = mycls()\n",
        "\n",
        "print(c1.v1,c1.object_e)\n",
        "print(c2.v1,c1.object_e)"
      ],
      "metadata": {
        "id": "TETmyHAaCcKw",
        "outputId": "1b978d9b-abb7-4e1c-c5c9-bd3b6fda485b",
        "colab": {
          "base_uri": "https://localhost:8080/"
        }
      },
      "id": "TETmyHAaCcKw",
      "execution_count": null,
      "outputs": [
        {
          "output_type": "stream",
          "name": "stdout",
          "text": [
            "123 456\n",
            "123 456\n"
          ]
        }
      ]
    },
    {
      "cell_type": "code",
      "source": [
        "li1 = [1,2,3,4,5]\n",
        "li2 = [1,2,3,4,5] # [2,4,6,8,10]\n",
        "\n",
        "print(\"First list :\" + str(li1))\n",
        "print(\"second list:\" + str(li2))\n",
        "\n",
        "otherL= []\n",
        "\n",
        "for i in range(0, len(li1)):\n",
        "    otherL.append(li1[i]+li2[i])\n",
        "    \n",
        "print(\"Now list is: \" + str(otherL))"
      ],
      "metadata": {
        "id": "WLkfilAICqRF",
        "colab": {
          "base_uri": "https://localhost:8080/"
        },
        "outputId": "8c97ea6d-8364-429d-ee2c-56006f6d37ab"
      },
      "id": "WLkfilAICqRF",
      "execution_count": null,
      "outputs": [
        {
          "output_type": "stream",
          "name": "stdout",
          "text": [
            "First list :[1, 2, 3, 4, 5]\n",
            "second list:[1, 2, 3, 4, 5]\n",
            "Now list is: [2, 4, 6, 8, 10]\n"
          ]
        }
      ]
    },
    {
      "cell_type": "code",
      "source": [
        "Items = [2,9,3,1,2]\n",
        "#Output: cons_group = [[1,2,3], [7,8], [2,3,4,5], [6,7], [1,2,3], [5,6,7]]\n",
        "\n",
        "My = len(Items)\n",
        "\n",
        "for i in range(My):\n",
        "    for j in range(i+1,My):\n",
        "        if Items[i]>Items[j]:\n",
        "            #0>1\n",
        "            Items[i],Items[j]=Items[j],Items[i]\n",
        "            \n",
        "\n",
        "print(Items)"
      ],
      "metadata": {
        "id": "YUg0evDqC5uQ",
        "colab": {
          "base_uri": "https://localhost:8080/"
        },
        "outputId": "2b13520a-e72b-49c2-f8f0-ae44c5472346"
      },
      "id": "YUg0evDqC5uQ",
      "execution_count": null,
      "outputs": [
        {
          "output_type": "stream",
          "name": "stdout",
          "text": [
            "[1, 2, 2, 3, 9]\n"
          ]
        }
      ]
    },
    {
      "cell_type": "code",
      "source": [
        "a = \"abcbdbc\"\n",
        "for i in a:\n",
        "    count = 0\n",
        "    for j in a:\n",
        "        if i==j:\n",
        "            count +=1\n",
        "        if count > 1:\n",
        "            break\n",
        "    if count == 1:\n",
        "        print(i,end = \" \")"
      ],
      "metadata": {
        "id": "wOXCfFt8DHYw",
        "colab": {
          "base_uri": "https://localhost:8080/"
        },
        "outputId": "98313031-03ed-41ab-c859-4b1775c0cb83"
      },
      "id": "wOXCfFt8DHYw",
      "execution_count": null,
      "outputs": [
        {
          "output_type": "stream",
          "name": "stdout",
          "text": [
            "a d "
          ]
        }
      ]
    },
    {
      "cell_type": "code",
      "source": [
        "l1 = [1,2,3,4,5]\n",
        "i = 0\n",
        "while i < len(l1):\n",
        "    print(l1[i])\n",
        "    i = i +1"
      ],
      "metadata": {
        "id": "knyQfP9cEyCc",
        "colab": {
          "base_uri": "https://localhost:8080/"
        },
        "outputId": "c4b8dd49-7d10-4830-e299-87cfafc804da"
      },
      "id": "knyQfP9cEyCc",
      "execution_count": null,
      "outputs": [
        {
          "output_type": "stream",
          "name": "stdout",
          "text": [
            "1\n",
            "2\n",
            "3\n",
            "4\n",
            "5\n"
          ]
        }
      ]
    },
    {
      "cell_type": "code",
      "source": [
        "def short(str):\n",
        "    str = \" \".join(sorted(str))\n",
        "    print(str)\n",
        "Eg =\"zacdef\"\n",
        "short(Eg)  "
      ],
      "metadata": {
        "id": "gkueDbdqE9EY",
        "colab": {
          "base_uri": "https://localhost:8080/"
        },
        "outputId": "6326ca4c-15bc-4dbd-f9b0-ed23a2f44b1c"
      },
      "id": "gkueDbdqE9EY",
      "execution_count": null,
      "outputs": [
        {
          "output_type": "stream",
          "name": "stdout",
          "text": [
            "a c d e f z\n"
          ]
        }
      ]
    },
    {
      "cell_type": "code",
      "source": [
        "#Output = [1,3,5,6,8,10,12,19]\n",
        "# Array1 =[2,5,8,19]\n",
        "# Array2 = [3,6,10,12]\n",
        "Ar =[2,5,8,19]\n",
        "ar=[3,6,10,12]\n",
        "a=Ar+ar\n",
        "print(a)\n",
        "x=1\n",
        "for i in a:\n",
        "  for j in (x,len(a)):\n",
        "    if (a[i]>a[j]):\n",
        "      temp=a[i]\n",
        "      y=a[j]\n",
        "      a[i]=a[j]\n",
        "      x+=1\n",
        "\n",
        "\n"
      ],
      "metadata": {
        "id": "IQWmX2CXFKmv",
        "colab": {
          "base_uri": "https://localhost:8080/",
          "height": 252
        },
        "outputId": "eaf6c671-84fe-47f6-fa2f-e8ef5a82ef9b"
      },
      "id": "IQWmX2CXFKmv",
      "execution_count": null,
      "outputs": [
        {
          "output_type": "stream",
          "name": "stdout",
          "text": [
            "[2, 5, 8, 19, 3, 6, 10, 12]\n"
          ]
        },
        {
          "output_type": "error",
          "ename": "IndexError",
          "evalue": "ignored",
          "traceback": [
            "\u001b[0;31m---------------------------------------------------------------------------\u001b[0m",
            "\u001b[0;31mIndexError\u001b[0m                                Traceback (most recent call last)",
            "\u001b[0;32m<ipython-input-4-31545b15b414>\u001b[0m in \u001b[0;36m<module>\u001b[0;34m\u001b[0m\n\u001b[1;32m      9\u001b[0m \u001b[0;32mfor\u001b[0m \u001b[0mi\u001b[0m \u001b[0;32min\u001b[0m \u001b[0ma\u001b[0m\u001b[0;34m:\u001b[0m\u001b[0;34m\u001b[0m\u001b[0;34m\u001b[0m\u001b[0m\n\u001b[1;32m     10\u001b[0m   \u001b[0;32mfor\u001b[0m \u001b[0mj\u001b[0m \u001b[0;32min\u001b[0m \u001b[0;34m(\u001b[0m\u001b[0mx\u001b[0m\u001b[0;34m,\u001b[0m\u001b[0mlen\u001b[0m\u001b[0;34m(\u001b[0m\u001b[0ma\u001b[0m\u001b[0;34m)\u001b[0m\u001b[0;34m)\u001b[0m\u001b[0;34m:\u001b[0m\u001b[0;34m\u001b[0m\u001b[0;34m\u001b[0m\u001b[0m\n\u001b[0;32m---> 11\u001b[0;31m     \u001b[0;32mif\u001b[0m \u001b[0;34m(\u001b[0m\u001b[0ma\u001b[0m\u001b[0;34m[\u001b[0m\u001b[0mi\u001b[0m\u001b[0;34m]\u001b[0m\u001b[0;34m>\u001b[0m\u001b[0ma\u001b[0m\u001b[0;34m[\u001b[0m\u001b[0mj\u001b[0m\u001b[0;34m]\u001b[0m\u001b[0;34m)\u001b[0m\u001b[0;34m:\u001b[0m\u001b[0;34m\u001b[0m\u001b[0;34m\u001b[0m\u001b[0m\n\u001b[0m\u001b[1;32m     12\u001b[0m       \u001b[0mtemp\u001b[0m\u001b[0;34m=\u001b[0m\u001b[0ma\u001b[0m\u001b[0;34m[\u001b[0m\u001b[0mi\u001b[0m\u001b[0;34m]\u001b[0m\u001b[0;34m\u001b[0m\u001b[0;34m\u001b[0m\u001b[0m\n\u001b[1;32m     13\u001b[0m       \u001b[0my\u001b[0m\u001b[0;34m=\u001b[0m\u001b[0ma\u001b[0m\u001b[0;34m[\u001b[0m\u001b[0mj\u001b[0m\u001b[0;34m]\u001b[0m\u001b[0;34m\u001b[0m\u001b[0;34m\u001b[0m\u001b[0m\n",
            "\u001b[0;31mIndexError\u001b[0m: list index out of range"
          ]
        }
      ]
    },
    {
      "cell_type": "markdown",
      "source": [],
      "metadata": {
        "id": "d6tM8EjzHPQJ"
      },
      "id": "d6tM8EjzHPQJ"
    },
    {
      "cell_type": "code",
      "source": [
        "li=[1,2,4,557,99]\n",
        "a=len(li)\n",
        "i=0\n",
        "while i<a:\n",
        "  print(li[i])\n",
        "  i+=1"
      ],
      "metadata": {
        "id": "3U1phP-AFSxL",
        "colab": {
          "base_uri": "https://localhost:8080/"
        },
        "outputId": "55c7777e-970c-4c4a-81b5-1b31b4d8605b"
      },
      "id": "3U1phP-AFSxL",
      "execution_count": null,
      "outputs": [
        {
          "output_type": "stream",
          "name": "stdout",
          "text": [
            "1\n",
            "2\n",
            "4\n",
            "557\n",
            "99\n"
          ]
        }
      ]
    },
    {
      "cell_type": "code",
      "source": [
        "a=\"This is a python test\"\n",
        "c=0\n",
        "for i in a:\n",
        "  if i==\"t\" or i==\"T\":\n",
        "    c+=1\n",
        "print(c)"
      ],
      "metadata": {
        "id": "cc4nRwAeGtMe",
        "colab": {
          "base_uri": "https://localhost:8080/"
        },
        "outputId": "978d44c2-3496-4811-9116-47bca47fba40"
      },
      "id": "cc4nRwAeGtMe",
      "execution_count": null,
      "outputs": [
        {
          "output_type": "stream",
          "name": "stdout",
          "text": [
            "4\n"
          ]
        }
      ]
    },
    {
      "cell_type": "code",
      "source": [
        "a=\"This is a python test\""
      ],
      "metadata": {
        "id": "euwxTcR-Ij1C"
      },
      "id": "euwxTcR-Ij1C",
      "execution_count": null,
      "outputs": []
    },
    {
      "cell_type": "code",
      "source": [
        "n = int(input(\"num \"))\n",
        "for i in range(2,n):\n",
        "  if n%i==0:\n",
        "    print(\"not\")\n",
        "    break\n",
        "else:\n",
        "  print(\"yes\")"
      ],
      "metadata": {
        "colab": {
          "base_uri": "https://localhost:8080/"
        },
        "id": "e-XRJRC7FSpx",
        "outputId": "05ba48df-177e-40ab-fa9a-dcc877430011"
      },
      "id": "e-XRJRC7FSpx",
      "execution_count": null,
      "outputs": [
        {
          "output_type": "stream",
          "name": "stdout",
          "text": [
            "num 29\n",
            "yes\n"
          ]
        }
      ]
    },
    {
      "cell_type": "code",
      "source": [
        "\n",
        "num = int(input('this is number'))\n",
        "factorial = 1\n",
        "\n",
        "if num < 0:\n",
        "   print(\"Sorry, factorial does not exist for negative numbers\")\n",
        "elif num == 0:\n",
        "   print(\"The factorial of 0 is 1\")\n",
        "else:\n",
        "   for i in range(1,num + 1):\n",
        "       factorial = factorial*i\n",
        "   print(\"The factorial of\",num,\"is\",factorial)\n",
        "\n",
        "  "
      ],
      "metadata": {
        "colab": {
          "base_uri": "https://localhost:8080/"
        },
        "id": "ngi3u98YF-Jv",
        "outputId": "84e16a20-c02c-42d7-dfff-73427fd5de7c"
      },
      "id": "ngi3u98YF-Jv",
      "execution_count": null,
      "outputs": [
        {
          "output_type": "stream",
          "name": "stdout",
          "text": [
            "this is number5\n",
            "The factorial of 5 is 120\n"
          ]
        }
      ]
    },
    {
      "cell_type": "code",
      "source": [
        "num = int(input('this is number'))\n",
        "factorial =1\n",
        "for i in range(1,num + 1):\n",
        "  factorial = factorial*i\n",
        "print(\"The factorial of\",num,\"is\",factorial)\n",
        "if num<0:\n",
        "  print('not factorial')\n",
        "else:\n",
        "  print('this is factorial')"
      ],
      "metadata": {
        "colab": {
          "base_uri": "https://localhost:8080/"
        },
        "id": "5fuXX2YYlXId",
        "outputId": "934f4ed2-6575-437e-db42-3007b54fed03"
      },
      "id": "5fuXX2YYlXId",
      "execution_count": null,
      "outputs": [
        {
          "output_type": "stream",
          "name": "stdout",
          "text": [
            "this is number5\n",
            "The factorial of 5 is 120\n",
            "this is factorial\n"
          ]
        }
      ]
    },
    {
      "cell_type": "code",
      "source": [
        "nterms = int(input(\"How many terms? \"))\n",
        "\n",
        "# first two terms\n",
        "n1, n2 = 0, 1\n",
        "count = 0\n",
        " \n",
        " \n",
        "print(\"Fibonacci sequence:\")\n",
        "while count < nterms:\n",
        "  print(n1)\n",
        "  nth = n1 + n2\n",
        "  n1 = n2\n",
        "  n2 = nth\n",
        "  count += 1"
      ],
      "metadata": {
        "colab": {
          "base_uri": "https://localhost:8080/"
        },
        "id": "Q2TWviiVHDag",
        "outputId": "1224cd18-2294-4476-e1a4-141b232d0de2"
      },
      "id": "Q2TWviiVHDag",
      "execution_count": null,
      "outputs": [
        {
          "output_type": "stream",
          "name": "stdout",
          "text": [
            "How many terms? 5\n",
            "Fibonacci sequence:\n",
            "0\n",
            "1\n",
            "1\n",
            "2\n",
            "3\n"
          ]
        }
      ]
    },
    {
      "cell_type": "code",
      "source": [
        "def sd(n):\n",
        "  a=0\n",
        "  b=1\n",
        "  if n==0:\n",
        "    print(a)\n",
        "  else:\n",
        "    print(a)\n",
        "    print(b)\n",
        "    for i in range(2,n+1):\n",
        "      c=a+b\n",
        "      a=b\n",
        "      b=c\n",
        "      print(c)\n",
        "sd(10)\n"
      ],
      "metadata": {
        "colab": {
          "base_uri": "https://localhost:8080/"
        },
        "id": "t27tzFgxj1tT",
        "outputId": "81a9c8cc-2465-4ede-a9c1-9e868cd0480f"
      },
      "id": "t27tzFgxj1tT",
      "execution_count": null,
      "outputs": [
        {
          "output_type": "stream",
          "name": "stdout",
          "text": [
            "0\n",
            "1\n",
            "1\n",
            "2\n",
            "3\n",
            "5\n",
            "8\n",
            "13\n",
            "21\n",
            "34\n",
            "55\n"
          ]
        }
      ]
    },
    {
      "cell_type": "code",
      "source": [
        "def sd(n):\n",
        "  a=0\n",
        "  b=1\n",
        "  if n==1:\n",
        "    print(a)\n",
        "  else:\n",
        "    print(a)\n",
        "    print(b)\n",
        "    for i in range(2,n+1):\n",
        "      c=a+b\n",
        "      a=b\n",
        "      b=c\n",
        "      print(c)\n",
        "sd(10)"
      ],
      "metadata": {
        "colab": {
          "base_uri": "https://localhost:8080/"
        },
        "id": "3kEuVKtdwUa9",
        "outputId": "060606c4-34ab-4e6d-dd0f-35aca7d57111"
      },
      "id": "3kEuVKtdwUa9",
      "execution_count": null,
      "outputs": [
        {
          "output_type": "stream",
          "name": "stdout",
          "text": [
            "0\n",
            "1\n",
            "1\n",
            "2\n",
            "3\n",
            "5\n",
            "8\n",
            "13\n",
            "21\n",
            "34\n",
            "55\n"
          ]
        }
      ]
    },
    {
      "cell_type": "code",
      "source": [
        "rows = int(input(\"Enter number of rows: \"))\n",
        "\n",
        "for i in range(rows):\n",
        "    for j in range(i+1):\n",
        "        print(\"* \", end=\"\")\n",
        "    print(\"\\n\")"
      ],
      "metadata": {
        "colab": {
          "base_uri": "https://localhost:8080/"
        },
        "id": "GdkQ4XJgJ-Ao",
        "outputId": "ec1169fc-b899-454b-bf97-ac0d4d04e26c"
      },
      "id": "GdkQ4XJgJ-Ao",
      "execution_count": null,
      "outputs": [
        {
          "output_type": "stream",
          "name": "stdout",
          "text": [
            "Enter number of rows: 5\n",
            "* \n",
            "\n",
            "* * \n",
            "\n",
            "* * * \n",
            "\n",
            "* * * * \n",
            "\n",
            "* * * * * \n",
            "\n"
          ]
        }
      ]
    },
    {
      "cell_type": "code",
      "source": [
        "s = '2021-03'\n",
        "e = '2022-06'\n",
        "sm = '2021-03'.split(\"-\")\n",
        "em = '2022-06'.split(\"-\")\n",
        "startm = sm[1]\n",
        "endm = em[1]\n",
        "starty = sm[0]\n",
        "endy = em[0]\n",
        "print((int(endy)-int(starty))*12+(int(endm)-int(startm)))"
      ],
      "metadata": {
        "id": "Y997qu-LJ-1q",
        "colab": {
          "base_uri": "https://localhost:8080/"
        },
        "outputId": "70af1768-77be-49e1-c668-f47c06a2f103"
      },
      "id": "Y997qu-LJ-1q",
      "execution_count": null,
      "outputs": [
        {
          "output_type": "stream",
          "name": "stdout",
          "text": [
            "15\n"
          ]
        }
      ]
    },
    {
      "cell_type": "code",
      "source": [
        "a = [1,2,3,4,5,6]\n",
        "b = [7,8,9,10,11,12]\n",
        "c = []\n",
        "for i in a:\n",
        "  if i%2!=0:\n",
        "    c.append(i)\n",
        "print(c)"
      ],
      "metadata": {
        "colab": {
          "base_uri": "https://localhost:8080/"
        },
        "id": "_kHBt2rPh1W8",
        "outputId": "3f7da173-dbbc-4d48-e7c8-756cf81ea7a9"
      },
      "id": "_kHBt2rPh1W8",
      "execution_count": null,
      "outputs": [
        {
          "output_type": "stream",
          "name": "stdout",
          "text": [
            "[1, 3, 5]\n"
          ]
        }
      ]
    },
    {
      "cell_type": "code",
      "source": [
        "a = [1,2,3,4,5,6]\n",
        "b = [7,8,9,10,11,12]\n",
        "c= []\n",
        "for i in range(0,len(a)):\n",
        "  for  j in range(i,i+1):\n",
        "    c.append([a[i],b[i]])\n",
        "print(c)"
      ],
      "metadata": {
        "colab": {
          "base_uri": "https://localhost:8080/"
        },
        "id": "ZNrpjtyCjNLU",
        "outputId": "09ea313b-f464-4f5a-a203-315d8426b5b8"
      },
      "id": "ZNrpjtyCjNLU",
      "execution_count": null,
      "outputs": [
        {
          "output_type": "stream",
          "name": "stdout",
          "text": [
            "[[1, 7], [2, 8], [3, 9], [4, 10], [5, 11], [6, 12]]\n"
          ]
        }
      ]
    },
    {
      "cell_type": "code",
      "source": [
        "s=(input('this is number'))\n",
        "v=s.casefold()\n",
        "d=v[::-1]\n",
        "\n",
        "if list(d)==list(s):\n",
        "  print('print palindrom')\n",
        "else:\n",
        "  print('not palindrom')"
      ],
      "metadata": {
        "id": "3rPbMHBcnkP2",
        "colab": {
          "base_uri": "https://localhost:8080/"
        },
        "outputId": "936d4af9-a65c-4bdf-ec4d-7b1c08be8936"
      },
      "id": "3rPbMHBcnkP2",
      "execution_count": null,
      "outputs": [
        {
          "output_type": "stream",
          "name": "stdout",
          "text": [
            "this is number123\n",
            "not palindrom\n"
          ]
        }
      ]
    },
    {
      "cell_type": "code",
      "source": [
        "s=\"122\"\n",
        "d=s[::-1]\n",
        "if s==d:\n",
        "  print(\"yes\")\n",
        "else:\n",
        "  print(\"no\")"
      ],
      "metadata": {
        "colab": {
          "base_uri": "https://localhost:8080/"
        },
        "id": "_JmhhQGBmeSZ",
        "outputId": "de7ed42b-3509-4a41-cd1f-1833be0f79cd"
      },
      "id": "_JmhhQGBmeSZ",
      "execution_count": null,
      "outputs": [
        {
          "output_type": "stream",
          "name": "stdout",
          "text": [
            "no\n"
          ]
        }
      ]
    },
    {
      "cell_type": "code",
      "source": [
        "s='afds-kjhkh,ig3jhgjhg5bk'\n",
        "s.split('k')"
      ],
      "metadata": {
        "colab": {
          "base_uri": "https://localhost:8080/"
        },
        "id": "yAaSySa3nTT6",
        "outputId": "d04e368d-6611-42c0-bc1d-9e5fe404621c"
      },
      "id": "yAaSySa3nTT6",
      "execution_count": null,
      "outputs": [
        {
          "output_type": "execute_result",
          "data": {
            "text/plain": [
              "['afds-', 'jh', 'h,ig3jhgjhg5b', '']"
            ]
          },
          "metadata": {},
          "execution_count": 62
        }
      ]
    },
    {
      "cell_type": "code",
      "source": [
        "\n",
        "\n",
        "for row in range(1,11):\n",
        "  for col in range(1,11):\n",
        "    num=row*col\n",
        "    if num <10:\n",
        "      empty= ' '\n",
        "    else:\n",
        "      if num<100:\n",
        "        empty= ' '\n",
        "    if col==0:\n",
        "      if row==0:\n",
        "        print(' ',end=' ')\n",
        "      else:\n",
        "        print(' ',end=' ')\n",
        "    elif row==0:\n",
        "      print(' ',col,end=' ')\n",
        "    else:\n",
        "      print(empty,num,end=' ')\n",
        "  print()  \n",
        "    "
      ],
      "metadata": {
        "colab": {
          "base_uri": "https://localhost:8080/"
        },
        "id": "-0NfCiasv1Gs",
        "outputId": "96476db3-aa00-4650-ce20-3dde8f23039b"
      },
      "id": "-0NfCiasv1Gs",
      "execution_count": null,
      "outputs": [
        {
          "output_type": "stream",
          "name": "stdout",
          "text": [
            "  1   2   3   4   5   6   7   8   9   10 \n",
            "  2   4   6   8   10   12   14   16   18   20 \n",
            "  3   6   9   12   15   18   21   24   27   30 \n",
            "  4   8   12   16   20   24   28   32   36   40 \n",
            "  5   10   15   20   25   30   35   40   45   50 \n",
            "  6   12   18   24   30   36   42   48   54   60 \n",
            "  7   14   21   28   35   42   49   56   63   70 \n",
            "  8   16   24   32   40   48   56   64   72   80 \n",
            "  9   18   27   36   45   54   63   72   81   90 \n",
            "  10   20   30   40   50   60   70   80   90   100 \n"
          ]
        }
      ]
    },
    {
      "cell_type": "code",
      "source": [
        "s=[1,2,3,4,5,6,7,8,9,0 ]\n",
        "print(*s,sep='\\n')"
      ],
      "metadata": {
        "id": "IUFVXJ_d2GXo",
        "colab": {
          "base_uri": "https://localhost:8080/"
        },
        "outputId": "977ce232-2b18-4baa-c72a-e54f8001b6e7"
      },
      "id": "IUFVXJ_d2GXo",
      "execution_count": null,
      "outputs": [
        {
          "output_type": "stream",
          "name": "stdout",
          "text": [
            "1\n",
            "2\n",
            "3\n",
            "4\n",
            "5\n",
            "6\n",
            "7\n",
            "8\n",
            "9\n",
            "0\n"
          ]
        }
      ]
    },
    {
      "cell_type": "code",
      "source": [
        "f=5\n",
        "for i in range(f,0,-1):\n",
        "  for j in range(i,0,-1):\n",
        "    print(i,end='')\n",
        "  print('')"
      ],
      "metadata": {
        "colab": {
          "base_uri": "https://localhost:8080/"
        },
        "id": "v8PE430vuv2b",
        "outputId": "5482b4f5-5d4c-4540-ad26-50406825f35b"
      },
      "id": "v8PE430vuv2b",
      "execution_count": null,
      "outputs": [
        {
          "output_type": "stream",
          "name": "stdout",
          "text": [
            "55555\n",
            "4444\n",
            "333\n",
            "22\n",
            "1\n"
          ]
        }
      ]
    },
    {
      "cell_type": "code",
      "source": [
        "f=5\n",
        "for i in range(f,0,-1):\n",
        "  for j in range(i,0,-1):\n",
        "    print(j,end=' ')\n",
        "  print('')"
      ],
      "metadata": {
        "colab": {
          "base_uri": "https://localhost:8080/"
        },
        "id": "H_H9L4r0v3T5",
        "outputId": "bad3609f-fa9e-49d3-97a7-178870457ba9"
      },
      "id": "H_H9L4r0v3T5",
      "execution_count": null,
      "outputs": [
        {
          "output_type": "stream",
          "name": "stdout",
          "text": [
            "5 4 3 2 1 \n",
            "4 3 2 1 \n",
            "3 2 1 \n",
            "2 1 \n",
            "1 \n"
          ]
        }
      ]
    },
    {
      "cell_type": "code",
      "source": [
        "s=5\n",
        "v=1\n",
        "for i in range(2,s+1):\n",
        "  v=v*i\n",
        "  if v<0:\n",
        "    print()\n",
        "print(v)"
      ],
      "metadata": {
        "colab": {
          "base_uri": "https://localhost:8080/"
        },
        "id": "FGzPFWuDzZ_R",
        "outputId": "bfc860d3-a8e4-4be5-957a-5f91807f8d3c"
      },
      "id": "FGzPFWuDzZ_R",
      "execution_count": null,
      "outputs": [
        {
          "output_type": "stream",
          "name": "stdout",
          "text": [
            "120\n"
          ]
        }
      ]
    },
    {
      "cell_type": "code",
      "source": [
        "s=[3,4,5,6,7,8,9,0]\n",
        "print(*s,sep='\\n')"
      ],
      "metadata": {
        "id": "oYW__web0vsx",
        "colab": {
          "base_uri": "https://localhost:8080/"
        },
        "outputId": "c1c5df3e-e70c-402e-92da-e46789ba5241"
      },
      "id": "oYW__web0vsx",
      "execution_count": null,
      "outputs": [
        {
          "output_type": "stream",
          "name": "stdout",
          "text": [
            "3\n",
            "4\n",
            "5\n",
            "6\n",
            "7\n",
            "8\n",
            "9\n",
            "0\n"
          ]
        }
      ]
    },
    {
      "cell_type": "code",
      "source": [
        "class sd():\n",
        "    def __init__(self,name,id,salary):\n",
        "        self.name=name\n",
        "        self.id=id\n",
        "        self.salary=salary\n",
        "    #def fd(self):\n",
        "r = sd('shailendra',101,123456)\n",
        "print(r.id)\n"
      ],
      "metadata": {
        "colab": {
          "base_uri": "https://localhost:8080/"
        },
        "id": "OHUQTMGCjhZS",
        "outputId": "3f9de8d6-47d7-4132-db33-97fc68249c02"
      },
      "id": "OHUQTMGCjhZS",
      "execution_count": null,
      "outputs": [
        {
          "output_type": "stream",
          "name": "stdout",
          "text": [
            "101\n"
          ]
        }
      ]
    },
    {
      "cell_type": "code",
      "source": [],
      "metadata": {
        "id": "AY52rDbhlJu-"
      },
      "id": "AY52rDbhlJu-",
      "execution_count": null,
      "outputs": []
    }
  ],
  "metadata": {
    "kernelspec": {
      "display_name": "Python 3 (ipykernel)",
      "language": "python",
      "name": "python3"
    },
    "language_info": {
      "codemirror_mode": {
        "name": "ipython",
        "version": 3
      },
      "file_extension": ".py",
      "mimetype": "text/x-python",
      "name": "python",
      "nbconvert_exporter": "python",
      "pygments_lexer": "ipython3",
      "version": "3.9.7"
    },
    "colab": {
      "provenance": [],
      "include_colab_link": true
    }
  },
  "nbformat": 4,
  "nbformat_minor": 5
}